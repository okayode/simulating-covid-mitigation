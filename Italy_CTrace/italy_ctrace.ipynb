{
 "cells": [
  {
   "cell_type": "code",
   "execution_count": 1,
   "id": "de6a6b5a-e29c-4065-ac3e-b8693a67b548",
   "metadata": {},
   "outputs": [],
   "source": [
    "import numpy as np\n",
    "import matplotlib.pyplot as plt"
   ]
  },
  {
   "cell_type": "code",
   "execution_count": 3,
   "id": "48d5d08b-cd13-4b11-a30a-76cf15c4de99",
   "metadata": {},
   "outputs": [],
   "source": [
    "\n",
    "results1 = np.loadtxt(\"beta1.txt\") # gamma = 0.001\n",
    "results2 = np.loadtxt(\"beta2.txt\") # gamma = 0.005\n",
    "results3 = np.loadtxt(\"beta3.txt\") # gamma = 0.01\n",
    "results4 = np.loadtxt(\"beta4.txt\") # gamma = 0.05\n",
    "\n",
    "results5 = np.loadtxt(\"xi1.txt\") # gamma = 0.001\n",
    "results6 = np.loadtxt(\"xi2.txt\") # gamma = 0.005\n",
    "results7 = np.loadtxt(\"xi3.txt\") # gamma = 0.01\n",
    "results8 = np.loadtxt(\"xi4.txt\") # gamma = 0.05\n",
    "\n",
    "results9 = np.loadtxt(\"mu1.txt\") # gamma = 0.001\n",
    "results10 = np.loadtxt(\"mu2.txt\") # gamma = 0.005\n",
    "results11 = np.loadtxt(\"mu3.txt\") # gamma = 0.01\n",
    "results12 = np.loadtxt(\"mu4.txt\") # gamma = 0.05\n"
   ]
  },
  {
   "cell_type": "code",
   "execution_count": 4,
   "id": "69f30e45-699c-4b15-bc10-3455d7de5b7e",
   "metadata": {},
   "outputs": [
    {
     "name": "stdout",
     "output_type": "stream",
     "text": [
      "(10,)\n",
      "(10,)\n",
      "(10,)\n",
      "(10,)\n",
      "(10,)\n",
      "(10,)\n",
      "(10,)\n",
      "(10,)\n",
      "(10,)\n",
      "(10,)\n",
      "(10,)\n",
      "(10,)\n"
     ]
    }
   ],
   "source": [
    "# All have this shape\n",
    "\n",
    "print(results1.shape)\n",
    "print(results2.shape)\n",
    "print(results3.shape)\n",
    "print(results4.shape)\n",
    "\n",
    "print(results5.shape)\n",
    "print(results6.shape)\n",
    "print(results7.shape)\n",
    "print(results8.shape)\n",
    "\n",
    "print(results9.shape)\n",
    "print(results10.shape)\n",
    "print(results11.shape)\n",
    "print(results12.shape)\n"
   ]
  },
  {
   "cell_type": "code",
   "execution_count": 5,
   "id": "2e5ff96f-1698-41ce-ac07-85f5dc87114d",
   "metadata": {},
   "outputs": [],
   "source": [
    "k0 = len(results1)"
   ]
  },
  {
   "cell_type": "code",
   "execution_count": 6,
   "id": "94f8ba95-e910-4a34-9b4f-bf0cb4438b6e",
   "metadata": {},
   "outputs": [],
   "source": [
    "b1 = []; b2 = []; b3 = []; b4 = []\n",
    "e1 = []; e2 = []; e3 = []; e4 = []\n",
    "m1 = []; m2 = []; m3 = []; m4 = []\n",
    "be1 = []; be2 = []; be3 = []; be4 = []\n",
    "bae1 = []; bae2 = []; bae3 = []; bae4 = []\n",
    "\n",
    "for i in range(0,k0):\n",
    "    if results1[i] > 0:\n",
    "        b1.append(results1[i])\n",
    "        be1.append(results1[i]*results5[i])\n",
    "        bae1.append(results1[i]*(1-results5[i]))\n",
    "    if results2[i] > 0:\n",
    "        b2.append(results2[i])\n",
    "        be2.append(results2[i]*results6[i])\n",
    "        bae2.append(results2[i]*(1-results6[i]))\n",
    "    if results3[i] > 0:\n",
    "        b3.append(results3[i])\n",
    "        be3.append(results3[i]*results7[i])\n",
    "        bae3.append(results3[i]*(1-results7[i]))\n",
    "    if results4[i] > 0:\n",
    "        b4.append(results4[i])\n",
    "        be4.append(results4[i]*results8[i])\n",
    "        bae4.append(results4[i]*(1-results8[i]))\n",
    "    if results5[i] > 0:\n",
    "        e1.append(results5[i])\n",
    "    if results6[i] > 0:\n",
    "        e2.append(results6[i])\n",
    "    if results7[i] > 0:\n",
    "        e3.append(results7[i])\n",
    "    if results8[i] > 0:\n",
    "        e4.append(results8[i])\n",
    "    if results9[i] > 0:\n",
    "        m1.append(results9[i])\n",
    "    if results10[i] > 0:\n",
    "        m2.append(results10[i])\n",
    "    if results11[i] > 0:\n",
    "        m3.append(results11[i])\n",
    "    if results12[i] > 0:\n",
    "        m4.append(results12[i])\n"
   ]
  },
  {
   "cell_type": "code",
   "execution_count": 7,
   "id": "fa2ddd4a-932a-4260-9022-ed8eac31adfe",
   "metadata": {},
   "outputs": [],
   "source": [
    "# mean of the parameters\n",
    "\n",
    "mean_beta1 = np.mean(b1)\n",
    "mean_beta2 = np.mean(b2)\n",
    "mean_beta3 = np.mean(b3)\n",
    "mean_beta4 = np.mean(b4)\n",
    "\n",
    "mean_betaE1 = np.mean(be1)\n",
    "mean_betaE2 = np.mean(be2)\n",
    "mean_betaE3 = np.mean(be3)\n",
    "mean_betaE4 = np.mean(be4)\n",
    "\n",
    "mean_betaAE1 = np.mean(bae1)\n",
    "mean_betaAE2 = np.mean(bae2)\n",
    "mean_betaAE3 = np.mean(bae3)\n",
    "mean_betaAE4 = np.mean(bae4)\n",
    "\n",
    "mean_xi1 = np.mean(e1)\n",
    "mean_xi2 = np.mean(e2)\n",
    "mean_xi3 = np.mean(e3)\n",
    "mean_xi4 = np.mean(e4)\n",
    "\n",
    "mean_mu1 = np.mean(m1)\n",
    "mean_mu2 = np.mean(m2)\n",
    "mean_mu3 = np.mean(m3)\n",
    "mean_mu4 = np.mean(m4)\n"
   ]
  },
  {
   "cell_type": "code",
   "execution_count": 8,
   "id": "444157a4-5ff7-40a2-99a9-65bc970f92c2",
   "metadata": {},
   "outputs": [],
   "source": [
    "# std of the parameters\n",
    "\n",
    "std_beta1 = np.std(b1)\n",
    "std_beta2 = np.std(b2)\n",
    "std_beta3 = np.std(b3)\n",
    "std_beta4 = np.std(b4)\n",
    "\n",
    "std_betaE1 = np.std(be1)\n",
    "std_betaE2 = np.std(be2)\n",
    "std_betaE3 = np.std(be3)\n",
    "std_betaE4 = np.std(be4)\n",
    "\n",
    "std_betaAE1 = np.std(bae1)\n",
    "std_betaAE2 = np.std(bae2)\n",
    "std_betaAE3 = np.std(bae3)\n",
    "std_betaAE4 = np.std(bae4)\n",
    "\n",
    "std_xi1 = np.std(e1)\n",
    "std_xi2 = np.std(e2)\n",
    "std_xi3 = np.std(e3)\n",
    "std_xi4 = np.std(e4)\n",
    "\n",
    "std_mu1 = np.std(m1)\n",
    "std_mu2 = np.std(m2)\n",
    "std_mu3 = np.std(m3)\n",
    "std_mu4 = np.std(m4)"
   ]
  },
  {
   "cell_type": "markdown",
   "id": "2ddfd413-e551-4b98-abcd-554fd553b938",
   "metadata": {},
   "source": [
    "#### $\\gamma =0.001$"
   ]
  },
  {
   "cell_type": "code",
   "execution_count": 41,
   "id": "363ef7e1-25df-4357-acef-962b5757a4e2",
   "metadata": {},
   "outputs": [
    {
     "name": "stdout",
     "output_type": "stream",
     "text": [
      "0.032349189\n",
      "0.0025114056946039195\n"
     ]
    }
   ],
   "source": [
    "print(mean_beta1)\n",
    "print(std_beta1)"
   ]
  },
  {
   "cell_type": "code",
   "execution_count": 42,
   "id": "0e38e2fe-c86f-4dfc-8bee-69db9876eb27",
   "metadata": {},
   "outputs": [
    {
     "name": "stdout",
     "output_type": "stream",
     "text": [
      "0.370625365\n",
      "0.05151451363531491\n"
     ]
    }
   ],
   "source": [
    "print(mean_xi1)\n",
    "print(std_xi1)"
   ]
  },
  {
   "cell_type": "code",
   "execution_count": 43,
   "id": "650620ed-b3be-409d-89be-84374152d857",
   "metadata": {},
   "outputs": [
    {
     "name": "stdout",
     "output_type": "stream",
     "text": [
      "0.021570031\n",
      "0.004426532736021389\n"
     ]
    }
   ],
   "source": [
    "print(mean_mu1)\n",
    "print(std_mu1)"
   ]
  },
  {
   "cell_type": "code",
   "execution_count": 44,
   "id": "5a7147c7-ae55-4a5b-9fbb-5170df2f843a",
   "metadata": {},
   "outputs": [
    {
     "name": "stdout",
     "output_type": "stream",
     "text": [
      "0.01207998365085685\n",
      "0.0024537828153992462\n"
     ]
    }
   ],
   "source": [
    "print(mean_betaE1)\n",
    "print(std_betaE1)"
   ]
  },
  {
   "cell_type": "code",
   "execution_count": 45,
   "id": "c542231b-7dde-41e8-8fc8-901c868c49fb",
   "metadata": {},
   "outputs": [
    {
     "name": "stdout",
     "output_type": "stream",
     "text": [
      "0.02026920534914315\n",
      "0.0012736811029851933\n"
     ]
    }
   ],
   "source": [
    "print(mean_betaAE1)\n",
    "print(std_betaAE1)"
   ]
  },
  {
   "cell_type": "code",
   "execution_count": 46,
   "id": "1383a91b-6665-4316-9d34-c9ca28a12282",
   "metadata": {},
   "outputs": [
    {
     "name": "stdout",
     "output_type": "stream",
     "text": [
      "[16.08739759 11.40888719 14.72212787 10.0009448  10.69911891 14.0237724\n",
      " 11.25233721 17.24448504 11.93585565 13.16371421]\n"
     ]
    }
   ],
   "source": [
    "k1 = min(min(len(b1),len(e1)),len(m1))\n",
    "R1 = np.zeros(k1)\n",
    "\n",
    "for i in range(0,k1):\n",
    "    R1[i] = b1[i]*(e1[i]*m1[i] + (1-e1[i])*0.001)/(m1[i]*0.001)\n",
    "        \n",
    "print(R1)"
   ]
  },
  {
   "cell_type": "code",
   "execution_count": 47,
   "id": "ba97ca83-f714-4577-ae13-c310a5f57cee",
   "metadata": {},
   "outputs": [
    {
     "name": "stdout",
     "output_type": "stream",
     "text": [
      "13.05386408657819\n"
     ]
    }
   ],
   "source": [
    "mean_R1 = np.mean(R1)\n",
    "print(mean_R1)"
   ]
  },
  {
   "cell_type": "code",
   "execution_count": 48,
   "id": "b60a53a0-2a07-4ac9-87f8-e1c509f2cc83",
   "metadata": {},
   "outputs": [
    {
     "name": "stdout",
     "output_type": "stream",
     "text": [
      "2.2927288254204354\n"
     ]
    }
   ],
   "source": [
    "std_R1 = np.std(R1)\n",
    "print(std_R1)"
   ]
  },
  {
   "cell_type": "markdown",
   "id": "465cee9f-373f-4ea3-825c-ba12df97e838",
   "metadata": {},
   "source": [
    "#### $\\gamma =0.005$"
   ]
  },
  {
   "cell_type": "code",
   "execution_count": 49,
   "id": "b01c7636-ed65-4daf-9e8d-caae72b9cd05",
   "metadata": {},
   "outputs": [
    {
     "name": "stdout",
     "output_type": "stream",
     "text": [
      "0.03385985700000001\n",
      "0.0037241036651872363\n"
     ]
    }
   ],
   "source": [
    "print(mean_beta2)\n",
    "print(std_beta2)"
   ]
  },
  {
   "cell_type": "code",
   "execution_count": 50,
   "id": "29b7d224-e0c4-4914-9aba-ce75dbe34314",
   "metadata": {},
   "outputs": [
    {
     "name": "stdout",
     "output_type": "stream",
     "text": [
      "0.43283951600000004\n",
      "0.08533991998100257\n"
     ]
    }
   ],
   "source": [
    "print(mean_xi2)\n",
    "print(std_xi2)"
   ]
  },
  {
   "cell_type": "code",
   "execution_count": 51,
   "id": "9ecbdbb4-4fe4-44ca-b271-bc237fcd8fca",
   "metadata": {},
   "outputs": [
    {
     "name": "stdout",
     "output_type": "stream",
     "text": [
      "0.024791592999999997\n",
      "0.012284677126278126\n"
     ]
    }
   ],
   "source": [
    "print(mean_mu2)\n",
    "print(std_mu2)"
   ]
  },
  {
   "cell_type": "code",
   "execution_count": 52,
   "id": "e25f24a8-57b9-483b-a691-48d11a488c46",
   "metadata": {},
   "outputs": [
    {
     "name": "stdout",
     "output_type": "stream",
     "text": [
      "0.01484364339130321\n",
      "0.004056794122428509\n"
     ]
    }
   ],
   "source": [
    "print(mean_betaE2)\n",
    "print(std_betaE2)"
   ]
  },
  {
   "cell_type": "code",
   "execution_count": 53,
   "id": "c0785df1-3e0d-4615-ada4-9db296b4f2a4",
   "metadata": {},
   "outputs": [
    {
     "name": "stdout",
     "output_type": "stream",
     "text": [
      "0.01901621360869679\n",
      "0.002584426372613781\n"
     ]
    }
   ],
   "source": [
    "print(mean_betaAE2)\n",
    "print(std_betaAE2)"
   ]
  },
  {
   "cell_type": "code",
   "execution_count": 54,
   "id": "99a141f9-74fb-4ba2-82a1-cadea17cb6fb",
   "metadata": {},
   "outputs": [
    {
     "name": "stdout",
     "output_type": "stream",
     "text": [
      "[3.07314974 4.11594021 3.82197642 4.43436868 3.19965373 3.34543208\n",
      " 4.23347473 4.69830283 3.95641689 3.78803413]\n"
     ]
    }
   ],
   "source": [
    "k2 = min(min(len(b2),len(e2)),len(m2))\n",
    "R2 = np.zeros(k2)\n",
    "\n",
    "for i in range(0,k2):\n",
    "    R2[i] = b2[i]*(e2[i]*m2[i] + (1-e2[i])*0.005)/(m2[i]*0.005)\n",
    "        \n",
    "print(R2)"
   ]
  },
  {
   "cell_type": "code",
   "execution_count": 55,
   "id": "700d2b4e-2eab-4eca-8a4a-21637c8f6b72",
   "metadata": {},
   "outputs": [
    {
     "name": "stdout",
     "output_type": "stream",
     "text": [
      "3.866674945153634\n"
     ]
    }
   ],
   "source": [
    "mean_R2 = np.mean(R2)\n",
    "print(mean_R2)"
   ]
  },
  {
   "cell_type": "code",
   "execution_count": 56,
   "id": "b8cbf062-e70d-42ea-ba18-cfcf1f9e3295",
   "metadata": {},
   "outputs": [
    {
     "name": "stdout",
     "output_type": "stream",
     "text": [
      "0.5072559515345137\n"
     ]
    }
   ],
   "source": [
    "std_R2 = np.std(R2)\n",
    "print(std_R2)"
   ]
  },
  {
   "cell_type": "markdown",
   "id": "f4edde2f-9e0a-4760-aad4-399b11ee66ed",
   "metadata": {},
   "source": [
    "#### $\\gamma =0.01$"
   ]
  },
  {
   "cell_type": "code",
   "execution_count": 57,
   "id": "03c2bf92-aafc-41a5-8c5c-355d8df38674",
   "metadata": {},
   "outputs": [
    {
     "name": "stdout",
     "output_type": "stream",
     "text": [
      "0.03564368799999999\n",
      "0.003324084350231804\n"
     ]
    }
   ],
   "source": [
    "print(mean_beta3)\n",
    "print(std_beta3)"
   ]
  },
  {
   "cell_type": "code",
   "execution_count": 58,
   "id": "d7258b3a-7ac5-4d89-810b-9cf28fe4745d",
   "metadata": {},
   "outputs": [
    {
     "name": "stdout",
     "output_type": "stream",
     "text": [
      "0.49311629300000004\n",
      "0.0761335199304468\n"
     ]
    }
   ],
   "source": [
    "print(mean_xi3)\n",
    "print(std_xi3)"
   ]
  },
  {
   "cell_type": "code",
   "execution_count": 59,
   "id": "c9823d8f-7257-4905-8f70-031b4d5b2818",
   "metadata": {},
   "outputs": [
    {
     "name": "stdout",
     "output_type": "stream",
     "text": [
      "0.023055677000000004\n",
      "0.007912025456901728\n"
     ]
    }
   ],
   "source": [
    "print(mean_mu3)\n",
    "print(std_mu3)"
   ]
  },
  {
   "cell_type": "code",
   "execution_count": 60,
   "id": "b8228ec7-81c1-4f2d-be1c-93b8e13b9ba5",
   "metadata": {},
   "outputs": [
    {
     "name": "stdout",
     "output_type": "stream",
     "text": [
      "0.01771316635119741\n",
      "0.0037314300328297797\n"
     ]
    }
   ],
   "source": [
    "print(mean_betaE3)\n",
    "print(std_betaE3)"
   ]
  },
  {
   "cell_type": "code",
   "execution_count": 61,
   "id": "b306006e-b7b9-49a3-86f0-8b918acb3af3",
   "metadata": {},
   "outputs": [
    {
     "name": "stdout",
     "output_type": "stream",
     "text": [
      "0.017930521648802586\n",
      "0.0021624834916144343\n"
     ]
    }
   ],
   "source": [
    "print(mean_betaAE3)\n",
    "print(std_betaAE3)"
   ]
  },
  {
   "cell_type": "code",
   "execution_count": 62,
   "id": "c9ed69d5-fe4f-455e-ae76-79a116d83007",
   "metadata": {},
   "outputs": [
    {
     "name": "stdout",
     "output_type": "stream",
     "text": [
      "[2.62495217 2.86369639 2.6867566  2.57939652 2.75760007 2.61515115\n",
      " 2.38484628 2.66387952 2.58447848 2.5197349 ]\n"
     ]
    }
   ],
   "source": [
    "k3 = min(min(len(b3),len(e3)),len(m3))\n",
    "R3 = np.zeros(k3)\n",
    "\n",
    "for i in range(0,k3):\n",
    "    R3[i] = b3[i]*(e3[i]*m3[i] + (1-e3[i])*0.01)/(m3[i]*0.01)\n",
    "        \n",
    "print(R3)"
   ]
  },
  {
   "cell_type": "code",
   "execution_count": 63,
   "id": "227bc582-87e2-4d5f-a862-3065a28deecf",
   "metadata": {},
   "outputs": [
    {
     "name": "stdout",
     "output_type": "stream",
     "text": [
      "2.628049206760698\n"
     ]
    }
   ],
   "source": [
    "mean_R3 = np.mean(R3)\n",
    "print(mean_R3)"
   ]
  },
  {
   "cell_type": "code",
   "execution_count": 64,
   "id": "b55a483b-3bf3-43d7-bdee-8b2ce040d0e9",
   "metadata": {},
   "outputs": [
    {
     "name": "stdout",
     "output_type": "stream",
     "text": [
      "0.12343601167153259\n"
     ]
    }
   ],
   "source": [
    "std_R3 = np.std(R3)\n",
    "print(std_R3)"
   ]
  },
  {
   "cell_type": "markdown",
   "id": "04794ae3-c9c3-4ace-9c14-7b72eaee3b22",
   "metadata": {},
   "source": [
    "#### $\\gamma =0.05$"
   ]
  },
  {
   "cell_type": "code",
   "execution_count": 65,
   "id": "0382f095-9b1f-48ae-876e-efc281d24df7",
   "metadata": {},
   "outputs": [
    {
     "name": "stdout",
     "output_type": "stream",
     "text": [
      "0.045732389\n",
      "0.002232266520366464\n"
     ]
    }
   ],
   "source": [
    "print(mean_beta4)\n",
    "print(std_beta4)"
   ]
  },
  {
   "cell_type": "code",
   "execution_count": 66,
   "id": "45792059-9197-4ed5-95bb-70f108125a99",
   "metadata": {},
   "outputs": [
    {
     "name": "stdout",
     "output_type": "stream",
     "text": [
      "0.859621132\n",
      "0.06479269903721757\n"
     ]
    }
   ],
   "source": [
    "print(mean_xi4)\n",
    "print(std_xi4)"
   ]
  },
  {
   "cell_type": "code",
   "execution_count": 67,
   "id": "0fd33c47-167e-4266-97f5-3ecd9d2bbd6b",
   "metadata": {},
   "outputs": [
    {
     "name": "stdout",
     "output_type": "stream",
     "text": [
      "0.011133059\n",
      "0.004356790054789076\n"
     ]
    }
   ],
   "source": [
    "print(mean_mu4)\n",
    "print(std_mu4)"
   ]
  },
  {
   "cell_type": "code",
   "execution_count": 68,
   "id": "a0b51a10-b027-4224-9174-6b94ee948f8c",
   "metadata": {},
   "outputs": [
    {
     "name": "stdout",
     "output_type": "stream",
     "text": [
      "0.03924287380591414\n",
      "0.00270034675886493\n"
     ]
    }
   ],
   "source": [
    "print(mean_betaE4)\n",
    "print(std_betaE4)"
   ]
  },
  {
   "cell_type": "code",
   "execution_count": 69,
   "id": "47ec8356-a204-49a7-86a9-67a6b6c2319f",
   "metadata": {},
   "outputs": [
    {
     "name": "stdout",
     "output_type": "stream",
     "text": [
      "0.0064895151940858615\n",
      "0.0031914404660573076\n"
     ]
    }
   ],
   "source": [
    "print(mean_betaAE4)\n",
    "print(std_betaAE4)"
   ]
  },
  {
   "cell_type": "code",
   "execution_count": 70,
   "id": "80cd28a4-d2f0-4245-b9e8-cae8fa227ebb",
   "metadata": {},
   "outputs": [
    {
     "name": "stdout",
     "output_type": "stream",
     "text": [
      "[1.57605732 1.2973845  1.36482906 1.30040094 1.33224548 1.4238395\n",
      " 1.4016462  1.22498378 1.2939932  1.47854642]\n"
     ]
    }
   ],
   "source": [
    "k4 = min(min(len(b4),len(e4)),len(m4))\n",
    "R4 = np.zeros(k4)\n",
    "\n",
    "for i in range(0,k4):\n",
    "    R4[i] = b4[i]*(e4[i]*m4[i] + (1-e4[i])*0.05)/(m4[i]*0.05)\n",
    "        \n",
    "print(R4)"
   ]
  },
  {
   "cell_type": "code",
   "execution_count": 71,
   "id": "d43f47cb-e915-42e5-8d9d-799e572c9418",
   "metadata": {},
   "outputs": [
    {
     "name": "stdout",
     "output_type": "stream",
     "text": [
      "1.3693926397887706\n"
     ]
    }
   ],
   "source": [
    "mean_R4 = np.mean(R4)\n",
    "print(mean_R4)"
   ]
  },
  {
   "cell_type": "code",
   "execution_count": 72,
   "id": "2f8f7ecc-ffab-425d-b2e4-46092534d521",
   "metadata": {},
   "outputs": [
    {
     "name": "stdout",
     "output_type": "stream",
     "text": [
      "0.09824171629555736\n"
     ]
    }
   ],
   "source": [
    "std_R4 = np.std(R4)\n",
    "print(std_R4)"
   ]
  },
  {
   "cell_type": "code",
   "execution_count": null,
   "id": "1d9bee43-a821-477d-b928-293c4e78cee1",
   "metadata": {},
   "outputs": [],
   "source": []
  }
 ],
 "metadata": {
  "kernelspec": {
   "display_name": "Python 3 (ipykernel)",
   "language": "python",
   "name": "python3"
  },
  "language_info": {
   "codemirror_mode": {
    "name": "ipython",
    "version": 3
   },
   "file_extension": ".py",
   "mimetype": "text/x-python",
   "name": "python",
   "nbconvert_exporter": "python",
   "pygments_lexer": "ipython3",
   "version": "3.9.7"
  }
 },
 "nbformat": 4,
 "nbformat_minor": 5
}
